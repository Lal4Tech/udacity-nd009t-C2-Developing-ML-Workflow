{
 "cells": [
  {
   "cell_type": "markdown",
   "id": "51d1da44",
   "metadata": {},
   "source": [
    "# UDACITY Designing Your First Workflow - Step Functions"
   ]
  },
  {
   "cell_type": "markdown",
   "id": "6b13b5ae",
   "metadata": {},
   "source": [
    "## Step Functions & SageMaker"
   ]
  },
  {
   "cell_type": "markdown",
   "id": "189cc6e8",
   "metadata": {},
   "source": [
    "In the prior exercises, we've been working with many small services. This can be overwhelming for a data scientist that wants to establish a consistent methodology for handling data. Step Functions is an orchestration service that can allow us to utilize SageMaker in a methodical and consistent way. Step Functions also integrates with Lambda, which can allow us to potentially automate our entire machine learning pipeline end-to-end. Let's get a handle on what a 'step' in a step function looks like.\n",
    "\n",
    "In this exercise, you will create a preprocessing step and a training step. Then you will create a step function to chain the two steps."
   ]
  },
  {
   "cell_type": "markdown",
   "id": "c3c93838",
   "metadata": {},
   "source": [
    "## Exercise: Grant Permissions and install packages."
   ]
  },
  {
   "cell_type": "markdown",
   "id": "aa17bbab",
   "metadata": {},
   "source": [
    "Attach the IAMFullAccess and the StepFunctionsFullAccess polices to your SageMaker execution role."
   ]
  },
  {
   "cell_type": "code",
   "execution_count": 1,
   "id": "7a8a8223",
   "metadata": {},
   "outputs": [
    {
     "name": "stdout",
     "output_type": "stream",
     "text": [
      "Collecting stepfunctions\n",
      "  Downloading stepfunctions-2.3.0.tar.gz (67 kB)\n",
      "  Preparing metadata (setup.py): started\n",
      "  Preparing metadata (setup.py): finished with status 'done'\n",
      "Requirement already satisfied: sagemaker>=2.1.0 in /home/ec2-user/anaconda3/envs/python3/lib/python3.6/site-packages (from stepfunctions) (2.80.0)\n",
      "Requirement already satisfied: boto3>=1.14.38 in /home/ec2-user/anaconda3/envs/python3/lib/python3.6/site-packages (from stepfunctions) (1.21.25)\n",
      "Requirement already satisfied: pyyaml in /home/ec2-user/anaconda3/envs/python3/lib/python3.6/site-packages (from stepfunctions) (5.4.1)\n",
      "Requirement already satisfied: s3transfer<0.6.0,>=0.5.0 in /home/ec2-user/anaconda3/envs/python3/lib/python3.6/site-packages (from boto3>=1.14.38->stepfunctions) (0.5.0)\n",
      "Requirement already satisfied: jmespath<2.0.0,>=0.7.1 in /home/ec2-user/anaconda3/envs/python3/lib/python3.6/site-packages (from boto3>=1.14.38->stepfunctions) (0.10.0)\n",
      "Requirement already satisfied: botocore<1.25.0,>=1.24.25 in /home/ec2-user/anaconda3/envs/python3/lib/python3.6/site-packages (from boto3>=1.14.38->stepfunctions) (1.24.25)\n",
      "Requirement already satisfied: protobuf3-to-dict>=0.1.5 in /home/ec2-user/anaconda3/envs/python3/lib/python3.6/site-packages (from sagemaker>=2.1.0->stepfunctions) (0.1.5)\n",
      "Requirement already satisfied: protobuf>=3.1 in /home/ec2-user/anaconda3/envs/python3/lib/python3.6/site-packages (from sagemaker>=2.1.0->stepfunctions) (3.15.2)\n",
      "Requirement already satisfied: importlib-metadata>=1.4.0 in /home/ec2-user/anaconda3/envs/python3/lib/python3.6/site-packages (from sagemaker>=2.1.0->stepfunctions) (3.7.0)\n",
      "Requirement already satisfied: pathos in /home/ec2-user/anaconda3/envs/python3/lib/python3.6/site-packages (from sagemaker>=2.1.0->stepfunctions) (0.2.8)\n",
      "Requirement already satisfied: packaging>=20.0 in /home/ec2-user/anaconda3/envs/python3/lib/python3.6/site-packages (from sagemaker>=2.1.0->stepfunctions) (21.3)\n",
      "Requirement already satisfied: numpy>=1.9.0 in /home/ec2-user/anaconda3/envs/python3/lib/python3.6/site-packages (from sagemaker>=2.1.0->stepfunctions) (1.19.5)\n",
      "Requirement already satisfied: google-pasta in /home/ec2-user/anaconda3/envs/python3/lib/python3.6/site-packages (from sagemaker>=2.1.0->stepfunctions) (0.2.0)\n",
      "Requirement already satisfied: smdebug-rulesconfig==1.0.1 in /home/ec2-user/anaconda3/envs/python3/lib/python3.6/site-packages (from sagemaker>=2.1.0->stepfunctions) (1.0.1)\n",
      "Requirement already satisfied: attrs==20.3.0 in /home/ec2-user/anaconda3/envs/python3/lib/python3.6/site-packages (from sagemaker>=2.1.0->stepfunctions) (20.3.0)\n",
      "Requirement already satisfied: pandas in /home/ec2-user/anaconda3/envs/python3/lib/python3.6/site-packages (from sagemaker>=2.1.0->stepfunctions) (1.1.5)\n",
      "Requirement already satisfied: urllib3<1.27,>=1.25.4 in /home/ec2-user/anaconda3/envs/python3/lib/python3.6/site-packages (from botocore<1.25.0,>=1.24.25->boto3>=1.14.38->stepfunctions) (1.26.8)\n",
      "Requirement already satisfied: python-dateutil<3.0.0,>=2.1 in /home/ec2-user/anaconda3/envs/python3/lib/python3.6/site-packages (from botocore<1.25.0,>=1.24.25->boto3>=1.14.38->stepfunctions) (2.8.1)\n",
      "Requirement already satisfied: zipp>=0.5 in /home/ec2-user/anaconda3/envs/python3/lib/python3.6/site-packages (from importlib-metadata>=1.4.0->sagemaker>=2.1.0->stepfunctions) (3.4.0)\n",
      "Requirement already satisfied: typing-extensions>=3.6.4 in /home/ec2-user/anaconda3/envs/python3/lib/python3.6/site-packages (from importlib-metadata>=1.4.0->sagemaker>=2.1.0->stepfunctions) (4.0.1)\n",
      "Requirement already satisfied: pyparsing!=3.0.5,>=2.0.2 in /home/ec2-user/anaconda3/envs/python3/lib/python3.6/site-packages (from packaging>=20.0->sagemaker>=2.1.0->stepfunctions) (2.4.7)\n",
      "Requirement already satisfied: six>=1.9 in /home/ec2-user/anaconda3/envs/python3/lib/python3.6/site-packages (from protobuf>=3.1->sagemaker>=2.1.0->stepfunctions) (1.15.0)\n",
      "Requirement already satisfied: pytz>=2017.2 in /home/ec2-user/anaconda3/envs/python3/lib/python3.6/site-packages (from pandas->sagemaker>=2.1.0->stepfunctions) (2021.1)\n",
      "Requirement already satisfied: multiprocess>=0.70.12 in /home/ec2-user/anaconda3/envs/python3/lib/python3.6/site-packages (from pathos->sagemaker>=2.1.0->stepfunctions) (0.70.12.2)\n",
      "Requirement already satisfied: ppft>=1.6.6.4 in /home/ec2-user/anaconda3/envs/python3/lib/python3.6/site-packages (from pathos->sagemaker>=2.1.0->stepfunctions) (1.6.6.4)\n",
      "Requirement already satisfied: dill>=0.3.4 in /home/ec2-user/anaconda3/envs/python3/lib/python3.6/site-packages (from pathos->sagemaker>=2.1.0->stepfunctions) (0.3.4)\n",
      "Requirement already satisfied: pox>=0.3.0 in /home/ec2-user/anaconda3/envs/python3/lib/python3.6/site-packages (from pathos->sagemaker>=2.1.0->stepfunctions) (0.3.0)\n",
      "Building wheels for collected packages: stepfunctions\n",
      "  Building wheel for stepfunctions (setup.py): started\n",
      "  Building wheel for stepfunctions (setup.py): finished with status 'done'\n",
      "  Created wheel for stepfunctions: filename=stepfunctions-2.3.0-py2.py3-none-any.whl size=78153 sha256=c422d153275cd926925c846b85e51b37d62d9e21d044ebfca0b4d097bdf68e64\n",
      "  Stored in directory: /home/ec2-user/.cache/pip/wheels/4b/75/8e/166fad54033824bc17b9118d091d34eaab1837565aa5f0f57e\n",
      "Successfully built stepfunctions\n",
      "Installing collected packages: stepfunctions\n",
      "Successfully installed stepfunctions-2.3.0\n"
     ]
    }
   ],
   "source": [
    "%%bash\n",
    "pip install stepfunctions"
   ]
  },
  {
   "cell_type": "markdown",
   "id": "4e9b1d58",
   "metadata": {},
   "source": [
    "## Exercise: Fill out preprocessing step."
   ]
  },
  {
   "cell_type": "markdown",
   "id": "b05fb060",
   "metadata": {},
   "source": [
    "The 'step' interface is designed to be quite similar to the Preprocessing Job in lesson 2. The main difference between these is the ability of a 'step' to interface with other steps. Given the successful outcome of a single step, the next step specified in a workflow will automatically continue. In our case, a training step will launch given the successful outcome of a preprocessing step. The preprocessing step has been encoded for you. Upload the preprocessing code 'HelloBlazePreprocess.py' and the zipped dataset 'reviews_Musical_Instruments_5.json.zip' to s3, and fill out the constants in the code below. "
   ]
  },
  {
   "cell_type": "markdown",
   "id": "c62e51de",
   "metadata": {},
   "source": [
    "Code below is the preprocessing step. Fill in the constants in the code."
   ]
  },
  {
   "cell_type": "code",
   "execution_count": 7,
   "id": "553f09cc",
   "metadata": {},
   "outputs": [],
   "source": [
    "from sagemaker import get_execution_role\n",
    "from sagemaker.sklearn.processing import SKLearnProcessor\n",
    "from sagemaker.processing import ProcessingInput, ProcessingOutput\n",
    "from stepfunctions.steps.sagemaker import ProcessingStep\n",
    "import sagemaker\n",
    "import random\n",
    "\n",
    "role = get_execution_role()\n",
    "\n",
    "PREPROCESSING_JOB_NAME = \"l3e3-preproecess{}\".format(random.randint(1, 100))\n",
    "input_data = 's3://hari-test-bkt/l3e3/reviews_Musical_Instruments_5.json.zip'\n",
    "input_preprocessing_code = 's3://hari-test-bkt/l3e3/HelloBlazePreprocess.py'\n",
    "sess = sagemaker.Session()\n",
    "\n",
    "sklearn_processor = SKLearnProcessor(framework_version='0.20.0',\n",
    "                                     role=role,\n",
    "                                     instance_type='ml.m5.large',\n",
    "                                     instance_count=1)\n",
    "\n",
    "\n",
    "processed_data_train = \"{}{}/{}\".format(\"s3://\", sess.default_bucket(), 'hello_blaze_train_scikit')\n",
    "processed_data_test = \"{}{}/{}\".format(\"s3://\", sess.default_bucket(), 'hello_blaze_test_scikit')\n",
    "\n",
    "inputs=[ProcessingInput(source=input_data, destination='/opt/ml/processing/input', input_name = 'input-1'),  ProcessingInput(source=input_preprocessing_code , destination='/opt/ml/processing/input/code', input_name = 'code')]\n",
    "\n",
    "\n",
    "outputs=[ProcessingOutput(source='/opt/ml/processing/output/train', destination=processed_data_train, output_name = 'train_data'), ProcessingOutput(source='/opt/ml/processing/output/test', destination=processed_data_test, output_name = 'test_data')]\n",
    "\n",
    "\n",
    "processing_step = ProcessingStep(\n",
    "    \"SageMaker pre-processing step 4\",\n",
    "    processor=sklearn_processor,\n",
    "    job_name=PREPROCESSING_JOB_NAME,\n",
    "    inputs=inputs,\n",
    "    outputs=outputs,\n",
    "    container_entrypoint=[\"python3\", \"/opt/ml/processing/input/code/HelloBlazePreprocess.py\"],\n",
    ")\n"
   ]
  },
  {
   "cell_type": "markdown",
   "id": "30662c88",
   "metadata": {},
   "source": [
    "## Exercise: Fill out Training Step"
   ]
  },
  {
   "cell_type": "markdown",
   "id": "799f012f",
   "metadata": {},
   "source": [
    "Upon the success of the preprocessing step, we wish to execute a training step. A training step is defined below. Fill the constants in the code."
   ]
  },
  {
   "cell_type": "code",
   "execution_count": 8,
   "id": "65c73250",
   "metadata": {},
   "outputs": [],
   "source": [
    "from stepfunctions.steps.sagemaker import TrainingStep\n",
    "import boto3\n",
    "\n",
    "WORKFLOW_OUTPUT = \"s3://hari-test-bkt/l3e3/workflow_output\"\n",
    "TRAINING_JOB_NAME = \"l3e3-train{}\".format(random.randint(1, 100))\n",
    "\n",
    "region_name = boto3.Session().region_name\n",
    "container = sagemaker.image_uris.retrieve(\n",
    "    region=region_name, framework=\"blazingtext\", version=\"latest\"\n",
    ")\n",
    "\n",
    "helloBlazeEstimator = sagemaker.estimator.Estimator(\n",
    "    container,\n",
    "    role=role,\n",
    "    instance_count=1,\n",
    "    instance_type='ml.m5.large',\n",
    "    volume_size=30,\n",
    "    max_run=360000,\n",
    "    input_mode=\"File\",\n",
    "    output_path=WORKFLOW_OUTPUT,\n",
    "    sagemaker_session=sess,\n",
    ")\n",
    "\n",
    "helloBlazeEstimator.set_hyperparameters(mode='supervised')\n",
    "\n",
    "training_step = TrainingStep(\n",
    "    \"SageMaker Training Step\",\n",
    "    estimator=helloBlazeEstimator,\n",
    "    data={\"train\": sagemaker.TrainingInput(processed_data_train, content_type=\"text/plain\"), \"validation\": sagemaker.TrainingInput(processed_data_test, content_type=\"text/plain\")},\n",
    "    job_name=TRAINING_JOB_NAME,\n",
    "    wait_for_completion=True,\n",
    ")"
   ]
  },
  {
   "cell_type": "markdown",
   "id": "aae2ce80",
   "metadata": {},
   "source": [
    "## Exercise: Create Workflow & Execute It. "
   ]
  },
  {
   "cell_type": "markdown",
   "id": "2968d265",
   "metadata": {},
   "source": [
    "To link the steps, you'll need to create a role that is capable of doing so. Go to IAM and create a Step Functions role, and attach the CloudWatchEventsFullAccess and SageMakerFullAccess policies. Once done, make use of the above steps to create a workflow. Quick debugging tip: jobs must have a unique name; you'll need to rename job names when debugging. Consider creating a method that will dynamically create unique job names! "
   ]
  },
  {
   "cell_type": "code",
   "execution_count": 9,
   "id": "84121c2d",
   "metadata": {},
   "outputs": [],
   "source": [
    "from stepfunctions.steps import Chain\n",
    "from stepfunctions.workflow import Workflow\n",
    "\n",
    "workflow_role = \"arn:aws:iam::524741049628:role/step-function-execution-role\"\n",
    "\n",
    "workflow_graph = Chain([processing_step, training_step])\n",
    "workflow = Workflow(\n",
    "    name=\"SFPreproecessTrain1\",\n",
    "    definition=workflow_graph,\n",
    "    role=workflow_role,\n",
    ")\n",
    "\n",
    "workflow.create()\n",
    "\n",
    "execution = workflow.execute(\n",
    "    inputs={\n",
    "        \"PreprocessingJobName\": PREPROCESSING_JOB_NAME,  # Each pre processing job (SageMaker processing job) requires a unique name,\n",
    "        \"TrainingJobName\": TRAINING_JOB_NAME  # Each Sagemaker Training job requires a unique name,       \n",
    "    }\n",
    ")\n",
    "\n",
    "execution_output = execution.get_output(wait=True)"
   ]
  },
  {
   "cell_type": "markdown",
   "id": "01bd5970",
   "metadata": {},
   "source": [
    "You can track the outcome of this workflow through a custom UI that gets generated! Check it out!"
   ]
  },
  {
   "cell_type": "code",
   "execution_count": 10,
   "id": "c1e1937d",
   "metadata": {},
   "outputs": [
    {
     "data": {
      "text/html": [
       "\n",
       "<link rel=\"stylesheet\" type=\"text/css\" href=\"https://do0of8uwbahzz.cloudfront.net/graph.css\">\n",
       "<div id=\"graph-898\" class=\"workflowgraph\">\n",
       "    \n",
       "    <style>\n",
       "        .graph-legend ul {\n",
       "            list-style-type: none;\n",
       "            padding: 10px;\n",
       "            padding-left: 0;\n",
       "            margin: 0;\n",
       "            position: absolute;\n",
       "            top: 0;\n",
       "            background: transparent;\n",
       "        }\n",
       "\n",
       "        .graph-legend li {\n",
       "            margin-left: 10px;\n",
       "            display: inline-block;\n",
       "        }\n",
       "\n",
       "        .graph-legend li > div {\n",
       "            width: 10px;\n",
       "            height: 10px;\n",
       "            display: inline-block;\n",
       "        }\n",
       "\n",
       "        .graph-legend .success { background-color: #2BD62E }\n",
       "        .graph-legend .failed { background-color: #DE322F }\n",
       "        .graph-legend .cancelled { background-color: #DDDDDD }\n",
       "        .graph-legend .in-progress { background-color: #53C9ED }\n",
       "        .graph-legend .caught-error { background-color: #FFA500 }\n",
       "    </style>\n",
       "    <div class=\"graph-legend\">\n",
       "        <ul>\n",
       "            <li>\n",
       "                <div class=\"success\"></div>\n",
       "                <span>Success</span>\n",
       "            </li>\n",
       "            <li>\n",
       "                <div class=\"failed\"></div>\n",
       "                <span>Failed</span>\n",
       "            </li>\n",
       "            <li>\n",
       "                <div class=\"cancelled\"></div>\n",
       "                <span>Cancelled</span>\n",
       "            </li>\n",
       "            <li>\n",
       "                <div class=\"in-progress\"></div>\n",
       "                <span>In Progress</span>\n",
       "            </li>\n",
       "            <li>\n",
       "                <div class=\"caught-error\"></div>\n",
       "                <span>Caught Error</span>\n",
       "            </li>\n",
       "        </ul>\n",
       "    </div>\n",
       "\n",
       "    <svg></svg>\n",
       "    <a href=\"https://console.aws.amazon.com/states/home?region=eu-west-1#/executions/details/arn:aws:states:eu-west-1:524741049628:execution:SFPreproecessTrain1:eb3b7440-0eb0-49a9-88b8-09a2090d5518\" target=\"_blank\"> Inspect in AWS Step Functions </a>\n",
       "</div>\n",
       "\n",
       "<script type=\"text/javascript\">\n",
       "\n",
       "require.config({\n",
       "    paths: {\n",
       "        sfn: \"https://do0of8uwbahzz.cloudfront.net/sfn\",\n",
       "    }\n",
       "});\n",
       "\n",
       "require(['sfn'], function(sfn) {\n",
       "    var element = document.getElementById('graph-898')\n",
       "\n",
       "    var options = {\n",
       "        width: parseFloat(getComputedStyle(element, null).width.replace(\"px\", \"\")),\n",
       "        height: 1000,\n",
       "        layout: 'LR',\n",
       "        resizeHeight: true\n",
       "    };\n",
       "\n",
       "    var definition = {\"StartAt\": \"SageMaker pre-processing step 4\", \"States\": {\"SageMaker pre-processing step 4\": {\"Resource\": \"arn:aws:states:::sagemaker:createProcessingJob.sync\", \"Parameters\": {\"ProcessingJobName\": \"l3e3-preproecess74\", \"ProcessingInputs\": [{\"InputName\": \"input-1\", \"AppManaged\": false, \"S3Input\": {\"S3Uri\": \"s3://hari-test-bkt/l3e3/reviews_Musical_Instruments_5.json.zip\", \"LocalPath\": \"/opt/ml/processing/input\", \"S3DataType\": \"S3Prefix\", \"S3InputMode\": \"File\", \"S3DataDistributionType\": \"FullyReplicated\", \"S3CompressionType\": \"None\"}}, {\"InputName\": \"code\", \"AppManaged\": false, \"S3Input\": {\"S3Uri\": \"s3://hari-test-bkt/l3e3/HelloBlazePreprocess.py\", \"LocalPath\": \"/opt/ml/processing/input/code\", \"S3DataType\": \"S3Prefix\", \"S3InputMode\": \"File\", \"S3DataDistributionType\": \"FullyReplicated\", \"S3CompressionType\": \"None\"}}], \"ProcessingOutputConfig\": {\"Outputs\": [{\"OutputName\": \"train_data\", \"AppManaged\": false, \"S3Output\": {\"S3Uri\": \"s3://sagemaker-eu-west-1-524741049628/hello_blaze_train_scikit\", \"LocalPath\": \"/opt/ml/processing/output/train\", \"S3UploadMode\": \"EndOfJob\"}}, {\"OutputName\": \"test_data\", \"AppManaged\": false, \"S3Output\": {\"S3Uri\": \"s3://sagemaker-eu-west-1-524741049628/hello_blaze_test_scikit\", \"LocalPath\": \"/opt/ml/processing/output/test\", \"S3UploadMode\": \"EndOfJob\"}}]}, \"AppSpecification\": {\"ImageUri\": \"141502667606.dkr.ecr.eu-west-1.amazonaws.com/sagemaker-scikit-learn:0.20.0-cpu-py3\", \"ContainerEntrypoint\": [\"python3\", \"/opt/ml/processing/input/code/HelloBlazePreprocess.py\"]}, \"RoleArn\": \"arn:aws:iam::524741049628:role/service-role/AmazonSageMaker-ExecutionRole-20220409T111550\", \"ProcessingResources\": {\"ClusterConfig\": {\"InstanceCount\": 1, \"InstanceType\": \"ml.m5.large\", \"VolumeSizeInGB\": 30}}}, \"Type\": \"Task\", \"Next\": \"SageMaker Training Step\"}, \"SageMaker Training Step\": {\"Resource\": \"arn:aws:states:::sagemaker:createTrainingJob.sync\", \"Parameters\": {\"AlgorithmSpecification\": {\"TrainingImage\": \"685385470294.dkr.ecr.eu-west-1.amazonaws.com/blazingtext:1\", \"TrainingInputMode\": \"File\"}, \"OutputDataConfig\": {\"S3OutputPath\": \"s3://hari-test-bkt/l3e3/workflow_output\"}, \"StoppingCondition\": {\"MaxRuntimeInSeconds\": 360000}, \"ResourceConfig\": {\"InstanceCount\": 1, \"InstanceType\": \"ml.m5.large\", \"VolumeSizeInGB\": 30}, \"RoleArn\": \"arn:aws:iam::524741049628:role/service-role/AmazonSageMaker-ExecutionRole-20220409T111550\", \"InputDataConfig\": [{\"DataSource\": {\"S3DataSource\": {\"S3DataType\": \"S3Prefix\", \"S3Uri\": \"s3://sagemaker-eu-west-1-524741049628/hello_blaze_train_scikit\", \"S3DataDistributionType\": \"FullyReplicated\"}}, \"ContentType\": \"text/plain\", \"ChannelName\": \"train\"}, {\"DataSource\": {\"S3DataSource\": {\"S3DataType\": \"S3Prefix\", \"S3Uri\": \"s3://sagemaker-eu-west-1-524741049628/hello_blaze_test_scikit\", \"S3DataDistributionType\": \"FullyReplicated\"}}, \"ContentType\": \"text/plain\", \"ChannelName\": \"validation\"}], \"HyperParameters\": {\"mode\": \"supervised\"}, \"TrainingJobName\": \"l3e3-train5\"}, \"Type\": \"Task\", \"End\": true}}};\n",
       "    var elementId = '#graph-898';\n",
       "    var events = { 'events': [{\"timestamp\": 1650118600.747, \"type\": \"ExecutionStarted\", \"id\": 1, \"previousEventId\": 0, \"executionStartedEventDetails\": {\"input\": \"{\\n    \\\"PreprocessingJobName\\\": \\\"l3e3-preproecess74\\\",\\n    \\\"TrainingJobName\\\": \\\"l3e3-train5\\\"\\n}\", \"inputDetails\": {\"truncated\": false}, \"roleArn\": \"arn:aws:iam::524741049628:role/step-function-execution-role\"}}, {\"timestamp\": 1650118600.782, \"type\": \"TaskStateEntered\", \"id\": 2, \"previousEventId\": 0, \"stateEnteredEventDetails\": {\"name\": \"SageMaker pre-processing step 4\", \"input\": \"{\\n    \\\"PreprocessingJobName\\\": \\\"l3e3-preproecess74\\\",\\n    \\\"TrainingJobName\\\": \\\"l3e3-train5\\\"\\n}\", \"inputDetails\": {\"truncated\": false}}}, {\"timestamp\": 1650118600.782, \"type\": \"TaskScheduled\", \"id\": 3, \"previousEventId\": 2, \"taskScheduledEventDetails\": {\"resourceType\": \"sagemaker\", \"resource\": \"createProcessingJob.sync\", \"region\": \"eu-west-1\", \"parameters\": \"{\\\"ProcessingJobName\\\":\\\"l3e3-preproecess74\\\",\\\"ProcessingInputs\\\":[{\\\"InputName\\\":\\\"input-1\\\",\\\"AppManaged\\\":false,\\\"S3Input\\\":{\\\"S3Uri\\\":\\\"s3://hari-test-bkt/l3e3/reviews_Musical_Instruments_5.json.zip\\\",\\\"LocalPath\\\":\\\"/opt/ml/processing/input\\\",\\\"S3DataType\\\":\\\"S3Prefix\\\",\\\"S3InputMode\\\":\\\"File\\\",\\\"S3DataDistributionType\\\":\\\"FullyReplicated\\\",\\\"S3CompressionType\\\":\\\"None\\\"}},{\\\"InputName\\\":\\\"code\\\",\\\"AppManaged\\\":false,\\\"S3Input\\\":{\\\"S3Uri\\\":\\\"s3://hari-test-bkt/l3e3/HelloBlazePreprocess.py\\\",\\\"LocalPath\\\":\\\"/opt/ml/processing/input/code\\\",\\\"S3DataType\\\":\\\"S3Prefix\\\",\\\"S3InputMode\\\":\\\"File\\\",\\\"S3DataDistributionType\\\":\\\"FullyReplicated\\\",\\\"S3CompressionType\\\":\\\"None\\\"}}],\\\"ProcessingOutputConfig\\\":{\\\"Outputs\\\":[{\\\"OutputName\\\":\\\"train_data\\\",\\\"AppManaged\\\":false,\\\"S3Output\\\":{\\\"S3Uri\\\":\\\"s3://sagemaker-eu-west-1-524741049628/hello_blaze_train_scikit\\\",\\\"LocalPath\\\":\\\"/opt/ml/processing/output/train\\\",\\\"S3UploadMode\\\":\\\"EndOfJob\\\"}},{\\\"OutputName\\\":\\\"test_data\\\",\\\"AppManaged\\\":false,\\\"S3Output\\\":{\\\"S3Uri\\\":\\\"s3://sagemaker-eu-west-1-524741049628/hello_blaze_test_scikit\\\",\\\"LocalPath\\\":\\\"/opt/ml/processing/output/test\\\",\\\"S3UploadMode\\\":\\\"EndOfJob\\\"}}]},\\\"AppSpecification\\\":{\\\"ImageUri\\\":\\\"141502667606.dkr.ecr.eu-west-1.amazonaws.com/sagemaker-scikit-learn:0.20.0-cpu-py3\\\",\\\"ContainerEntrypoint\\\":[\\\"python3\\\",\\\"/opt/ml/processing/input/code/HelloBlazePreprocess.py\\\"]},\\\"RoleArn\\\":\\\"arn:aws:iam::524741049628:role/service-role/AmazonSageMaker-ExecutionRole-20220409T111550\\\",\\\"ProcessingResources\\\":{\\\"ClusterConfig\\\":{\\\"InstanceCount\\\":1,\\\"InstanceType\\\":\\\"ml.m5.large\\\",\\\"VolumeSizeInGB\\\":30}},\\\"Tags\\\":[{\\\"Key\\\":\\\"MANAGED_BY_AWS\\\",\\\"Value\\\":\\\"STARTED_BY_STEP_FUNCTIONS\\\"}]}\"}}, {\"timestamp\": 1650118600.851, \"type\": \"TaskStarted\", \"id\": 4, \"previousEventId\": 3, \"taskStartedEventDetails\": {\"resourceType\": \"sagemaker\", \"resource\": \"createProcessingJob.sync\"}}, {\"timestamp\": 1650118601.071, \"type\": \"TaskSubmitted\", \"id\": 5, \"previousEventId\": 4, \"taskSubmittedEventDetails\": {\"resourceType\": \"sagemaker\", \"resource\": \"createProcessingJob.sync\", \"output\": \"{\\\"ProcessingJobArn\\\":\\\"arn:aws:sagemaker:eu-west-1:524741049628:processing-job/l3e3-preproecess74\\\",\\\"SdkHttpMetadata\\\":{\\\"AllHttpHeaders\\\":{\\\"x-amzn-RequestId\\\":[\\\"5927225a-82eb-4469-8f4b-6010c9374942\\\"],\\\"Content-Length\\\":[\\\"97\\\"],\\\"Date\\\":[\\\"Sat, 16 Apr 2022 14:16:40 GMT\\\"],\\\"Content-Type\\\":[\\\"application/x-amz-json-1.1\\\"]},\\\"HttpHeaders\\\":{\\\"Content-Length\\\":\\\"97\\\",\\\"Content-Type\\\":\\\"application/x-amz-json-1.1\\\",\\\"Date\\\":\\\"Sat, 16 Apr 2022 14:16:40 GMT\\\",\\\"x-amzn-RequestId\\\":\\\"5927225a-82eb-4469-8f4b-6010c9374942\\\"},\\\"HttpStatusCode\\\":200},\\\"SdkResponseMetadata\\\":{\\\"RequestId\\\":\\\"5927225a-82eb-4469-8f4b-6010c9374942\\\"}}\", \"outputDetails\": {\"truncated\": false}}}, {\"timestamp\": 1650118852.993, \"type\": \"TaskSucceeded\", \"id\": 6, \"previousEventId\": 5, \"taskSucceededEventDetails\": {\"resourceType\": \"sagemaker\", \"resource\": \"createProcessingJob.sync\", \"output\": \"{\\\"ProcessingInputs\\\":[{\\\"InputName\\\":\\\"input-1\\\",\\\"AppManaged\\\":false,\\\"S3Input\\\":{\\\"S3Uri\\\":\\\"s3://hari-test-bkt/l3e3/reviews_Musical_Instruments_5.json.zip\\\",\\\"LocalPath\\\":\\\"/opt/ml/processing/input\\\",\\\"S3DataType\\\":\\\"S3_PREFIX\\\",\\\"S3InputMode\\\":\\\"FILE\\\",\\\"S3DataDistributionType\\\":\\\"FULLYREPLICATED\\\"}},{\\\"InputName\\\":\\\"code\\\",\\\"AppManaged\\\":false,\\\"S3Input\\\":{\\\"S3Uri\\\":\\\"s3://hari-test-bkt/l3e3/HelloBlazePreprocess.py\\\",\\\"LocalPath\\\":\\\"/opt/ml/processing/input/code\\\",\\\"S3DataType\\\":\\\"S3_PREFIX\\\",\\\"S3InputMode\\\":\\\"FILE\\\",\\\"S3DataDistributionType\\\":\\\"FULLYREPLICATED\\\"}}],\\\"ProcessingOutputConfig\\\":{\\\"Outputs\\\":[{\\\"OutputName\\\":\\\"train_data\\\",\\\"S3Output\\\":{\\\"S3Uri\\\":\\\"s3://sagemaker-eu-west-1-524741049628/hello_blaze_train_scikit\\\",\\\"LocalPath\\\":\\\"/opt/ml/processing/output/train\\\",\\\"S3UploadMode\\\":\\\"END_OF_JOB\\\"},\\\"AppManaged\\\":false},{\\\"OutputName\\\":\\\"test_data\\\",\\\"S3Output\\\":{\\\"S3Uri\\\":\\\"s3://sagemaker-eu-west-1-524741049628/hello_blaze_test_scikit\\\",\\\"LocalPath\\\":\\\"/opt/ml/processing/output/test\\\",\\\"S3UploadMode\\\":\\\"END_OF_JOB\\\"},\\\"AppManaged\\\":false}]},\\\"ProcessingJobName\\\":\\\"l3e3-preproecess74\\\",\\\"ProcessingResources\\\":{\\\"ClusterConfig\\\":{\\\"InstanceCount\\\":1.0,\\\"InstanceType\\\":\\\"ml.m5.large\\\",\\\"VolumeSizeInGB\\\":30.0}},\\\"StoppingCondition\\\":{\\\"MaxRuntimeInSeconds\\\":86400.0},\\\"AppSpecification\\\":{\\\"ImageUri\\\":\\\"141502667606.dkr.ecr.eu-west-1.amazonaws.com/sagemaker-scikit-learn:0.20.0-cpu-py3\\\",\\\"ContainerEntrypoint\\\":[\\\"python3\\\",\\\"/opt/ml/processing/input/code/HelloBlazePreprocess.py\\\"]},\\\"RoleArn\\\":\\\"arn:aws:iam::524741049628:role/service-role/AmazonSageMaker-ExecutionRole-20220409T111550\\\",\\\"ExperimentConfig\\\":{},\\\"ProcessingJobArn\\\":\\\"arn:aws:sagemaker:eu-west-1:524741049628:processing-job/l3e3-preproecess74\\\",\\\"ProcessingJobStatus\\\":\\\"Completed\\\",\\\"ProcessingEndTime\\\":1.650118848E12,\\\"ProcessingStartTime\\\":1.65011883E12,\\\"LastModifiedTime\\\":1.650118848E12,\\\"CreationTime\\\":1.6501186E12,\\\"Tags\\\":{\\\"AWS_STEP_FUNCTIONS_EXECUTION_ARN\\\":\\\"arn:aws:states:eu-west-1:524741049628:execution:SFPreproecessTrain1:eb3b7440-0eb0-49a9-88b8-09a2090d5518\\\",\\\"MANAGED_BY_AWS\\\":\\\"STARTED_BY_STEP_FUNCTIONS\\\"}}\", \"outputDetails\": {\"truncated\": false}}}, {\"timestamp\": 1650118852.993, \"type\": \"TaskStateExited\", \"id\": 7, \"previousEventId\": 6, \"stateExitedEventDetails\": {\"name\": \"SageMaker pre-processing step 4\", \"output\": \"{\\\"ProcessingInputs\\\":[{\\\"InputName\\\":\\\"input-1\\\",\\\"AppManaged\\\":false,\\\"S3Input\\\":{\\\"S3Uri\\\":\\\"s3://hari-test-bkt/l3e3/reviews_Musical_Instruments_5.json.zip\\\",\\\"LocalPath\\\":\\\"/opt/ml/processing/input\\\",\\\"S3DataType\\\":\\\"S3_PREFIX\\\",\\\"S3InputMode\\\":\\\"FILE\\\",\\\"S3DataDistributionType\\\":\\\"FULLYREPLICATED\\\"}},{\\\"InputName\\\":\\\"code\\\",\\\"AppManaged\\\":false,\\\"S3Input\\\":{\\\"S3Uri\\\":\\\"s3://hari-test-bkt/l3e3/HelloBlazePreprocess.py\\\",\\\"LocalPath\\\":\\\"/opt/ml/processing/input/code\\\",\\\"S3DataType\\\":\\\"S3_PREFIX\\\",\\\"S3InputMode\\\":\\\"FILE\\\",\\\"S3DataDistributionType\\\":\\\"FULLYREPLICATED\\\"}}],\\\"ProcessingOutputConfig\\\":{\\\"Outputs\\\":[{\\\"OutputName\\\":\\\"train_data\\\",\\\"S3Output\\\":{\\\"S3Uri\\\":\\\"s3://sagemaker-eu-west-1-524741049628/hello_blaze_train_scikit\\\",\\\"LocalPath\\\":\\\"/opt/ml/processing/output/train\\\",\\\"S3UploadMode\\\":\\\"END_OF_JOB\\\"},\\\"AppManaged\\\":false},{\\\"OutputName\\\":\\\"test_data\\\",\\\"S3Output\\\":{\\\"S3Uri\\\":\\\"s3://sagemaker-eu-west-1-524741049628/hello_blaze_test_scikit\\\",\\\"LocalPath\\\":\\\"/opt/ml/processing/output/test\\\",\\\"S3UploadMode\\\":\\\"END_OF_JOB\\\"},\\\"AppManaged\\\":false}]},\\\"ProcessingJobName\\\":\\\"l3e3-preproecess74\\\",\\\"ProcessingResources\\\":{\\\"ClusterConfig\\\":{\\\"InstanceCount\\\":1.0,\\\"InstanceType\\\":\\\"ml.m5.large\\\",\\\"VolumeSizeInGB\\\":30.0}},\\\"StoppingCondition\\\":{\\\"MaxRuntimeInSeconds\\\":86400.0},\\\"AppSpecification\\\":{\\\"ImageUri\\\":\\\"141502667606.dkr.ecr.eu-west-1.amazonaws.com/sagemaker-scikit-learn:0.20.0-cpu-py3\\\",\\\"ContainerEntrypoint\\\":[\\\"python3\\\",\\\"/opt/ml/processing/input/code/HelloBlazePreprocess.py\\\"]},\\\"RoleArn\\\":\\\"arn:aws:iam::524741049628:role/service-role/AmazonSageMaker-ExecutionRole-20220409T111550\\\",\\\"ExperimentConfig\\\":{},\\\"ProcessingJobArn\\\":\\\"arn:aws:sagemaker:eu-west-1:524741049628:processing-job/l3e3-preproecess74\\\",\\\"ProcessingJobStatus\\\":\\\"Completed\\\",\\\"ProcessingEndTime\\\":1.650118848E12,\\\"ProcessingStartTime\\\":1.65011883E12,\\\"LastModifiedTime\\\":1.650118848E12,\\\"CreationTime\\\":1.6501186E12,\\\"Tags\\\":{\\\"AWS_STEP_FUNCTIONS_EXECUTION_ARN\\\":\\\"arn:aws:states:eu-west-1:524741049628:execution:SFPreproecessTrain1:eb3b7440-0eb0-49a9-88b8-09a2090d5518\\\",\\\"MANAGED_BY_AWS\\\":\\\"STARTED_BY_STEP_FUNCTIONS\\\"}}\", \"outputDetails\": {\"truncated\": false}}}, {\"timestamp\": 1650118853.0, \"type\": \"TaskStateEntered\", \"id\": 8, \"previousEventId\": 7, \"stateEnteredEventDetails\": {\"name\": \"SageMaker Training Step\", \"input\": \"{\\\"ProcessingInputs\\\":[{\\\"InputName\\\":\\\"input-1\\\",\\\"AppManaged\\\":false,\\\"S3Input\\\":{\\\"S3Uri\\\":\\\"s3://hari-test-bkt/l3e3/reviews_Musical_Instruments_5.json.zip\\\",\\\"LocalPath\\\":\\\"/opt/ml/processing/input\\\",\\\"S3DataType\\\":\\\"S3_PREFIX\\\",\\\"S3InputMode\\\":\\\"FILE\\\",\\\"S3DataDistributionType\\\":\\\"FULLYREPLICATED\\\"}},{\\\"InputName\\\":\\\"code\\\",\\\"AppManaged\\\":false,\\\"S3Input\\\":{\\\"S3Uri\\\":\\\"s3://hari-test-bkt/l3e3/HelloBlazePreprocess.py\\\",\\\"LocalPath\\\":\\\"/opt/ml/processing/input/code\\\",\\\"S3DataType\\\":\\\"S3_PREFIX\\\",\\\"S3InputMode\\\":\\\"FILE\\\",\\\"S3DataDistributionType\\\":\\\"FULLYREPLICATED\\\"}}],\\\"ProcessingOutputConfig\\\":{\\\"Outputs\\\":[{\\\"OutputName\\\":\\\"train_data\\\",\\\"S3Output\\\":{\\\"S3Uri\\\":\\\"s3://sagemaker-eu-west-1-524741049628/hello_blaze_train_scikit\\\",\\\"LocalPath\\\":\\\"/opt/ml/processing/output/train\\\",\\\"S3UploadMode\\\":\\\"END_OF_JOB\\\"},\\\"AppManaged\\\":false},{\\\"OutputName\\\":\\\"test_data\\\",\\\"S3Output\\\":{\\\"S3Uri\\\":\\\"s3://sagemaker-eu-west-1-524741049628/hello_blaze_test_scikit\\\",\\\"LocalPath\\\":\\\"/opt/ml/processing/output/test\\\",\\\"S3UploadMode\\\":\\\"END_OF_JOB\\\"},\\\"AppManaged\\\":false}]},\\\"ProcessingJobName\\\":\\\"l3e3-preproecess74\\\",\\\"ProcessingResources\\\":{\\\"ClusterConfig\\\":{\\\"InstanceCount\\\":1.0,\\\"InstanceType\\\":\\\"ml.m5.large\\\",\\\"VolumeSizeInGB\\\":30.0}},\\\"StoppingCondition\\\":{\\\"MaxRuntimeInSeconds\\\":86400.0},\\\"AppSpecification\\\":{\\\"ImageUri\\\":\\\"141502667606.dkr.ecr.eu-west-1.amazonaws.com/sagemaker-scikit-learn:0.20.0-cpu-py3\\\",\\\"ContainerEntrypoint\\\":[\\\"python3\\\",\\\"/opt/ml/processing/input/code/HelloBlazePreprocess.py\\\"]},\\\"RoleArn\\\":\\\"arn:aws:iam::524741049628:role/service-role/AmazonSageMaker-ExecutionRole-20220409T111550\\\",\\\"ExperimentConfig\\\":{},\\\"ProcessingJobArn\\\":\\\"arn:aws:sagemaker:eu-west-1:524741049628:processing-job/l3e3-preproecess74\\\",\\\"ProcessingJobStatus\\\":\\\"Completed\\\",\\\"ProcessingEndTime\\\":1.650118848E12,\\\"ProcessingStartTime\\\":1.65011883E12,\\\"LastModifiedTime\\\":1.650118848E12,\\\"CreationTime\\\":1.6501186E12,\\\"Tags\\\":{\\\"AWS_STEP_FUNCTIONS_EXECUTION_ARN\\\":\\\"arn:aws:states:eu-west-1:524741049628:execution:SFPreproecessTrain1:eb3b7440-0eb0-49a9-88b8-09a2090d5518\\\",\\\"MANAGED_BY_AWS\\\":\\\"STARTED_BY_STEP_FUNCTIONS\\\"}}\", \"inputDetails\": {\"truncated\": false}}}, {\"timestamp\": 1650118853.0, \"type\": \"TaskScheduled\", \"id\": 9, \"previousEventId\": 8, \"taskScheduledEventDetails\": {\"resourceType\": \"sagemaker\", \"resource\": \"createTrainingJob.sync\", \"region\": \"eu-west-1\", \"parameters\": \"{\\\"AlgorithmSpecification\\\":{\\\"TrainingImage\\\":\\\"685385470294.dkr.ecr.eu-west-1.amazonaws.com/blazingtext:1\\\",\\\"TrainingInputMode\\\":\\\"File\\\"},\\\"OutputDataConfig\\\":{\\\"S3OutputPath\\\":\\\"s3://hari-test-bkt/l3e3/workflow_output\\\"},\\\"StoppingCondition\\\":{\\\"MaxRuntimeInSeconds\\\":360000},\\\"ResourceConfig\\\":{\\\"InstanceCount\\\":1,\\\"InstanceType\\\":\\\"ml.m5.large\\\",\\\"VolumeSizeInGB\\\":30},\\\"RoleArn\\\":\\\"arn:aws:iam::524741049628:role/service-role/AmazonSageMaker-ExecutionRole-20220409T111550\\\",\\\"InputDataConfig\\\":[{\\\"DataSource\\\":{\\\"S3DataSource\\\":{\\\"S3DataType\\\":\\\"S3Prefix\\\",\\\"S3Uri\\\":\\\"s3://sagemaker-eu-west-1-524741049628/hello_blaze_train_scikit\\\",\\\"S3DataDistributionType\\\":\\\"FullyReplicated\\\"}},\\\"ContentType\\\":\\\"text/plain\\\",\\\"ChannelName\\\":\\\"train\\\"},{\\\"DataSource\\\":{\\\"S3DataSource\\\":{\\\"S3DataType\\\":\\\"S3Prefix\\\",\\\"S3Uri\\\":\\\"s3://sagemaker-eu-west-1-524741049628/hello_blaze_test_scikit\\\",\\\"S3DataDistributionType\\\":\\\"FullyReplicated\\\"}},\\\"ContentType\\\":\\\"text/plain\\\",\\\"ChannelName\\\":\\\"validation\\\"}],\\\"HyperParameters\\\":{\\\"mode\\\":\\\"supervised\\\"},\\\"TrainingJobName\\\":\\\"l3e3-train5\\\",\\\"Tags\\\":[{\\\"Key\\\":\\\"MANAGED_BY_AWS\\\",\\\"Value\\\":\\\"STARTED_BY_STEP_FUNCTIONS\\\"}]}\"}}, {\"timestamp\": 1650118853.05, \"type\": \"TaskStarted\", \"id\": 10, \"previousEventId\": 9, \"taskStartedEventDetails\": {\"resourceType\": \"sagemaker\", \"resource\": \"createTrainingJob.sync\"}}, {\"timestamp\": 1650118853.24, \"type\": \"TaskSubmitted\", \"id\": 11, \"previousEventId\": 10, \"taskSubmittedEventDetails\": {\"resourceType\": \"sagemaker\", \"resource\": \"createTrainingJob.sync\", \"output\": \"{\\\"SdkHttpMetadata\\\":{\\\"AllHttpHeaders\\\":{\\\"x-amzn-RequestId\\\":[\\\"fdee188b-6fa0-4165-80bb-727821c0c24d\\\"],\\\"Content-Length\\\":[\\\"86\\\"],\\\"Date\\\":[\\\"Sat, 16 Apr 2022 14:20:52 GMT\\\"],\\\"Content-Type\\\":[\\\"application/x-amz-json-1.1\\\"]},\\\"HttpHeaders\\\":{\\\"Content-Length\\\":\\\"86\\\",\\\"Content-Type\\\":\\\"application/x-amz-json-1.1\\\",\\\"Date\\\":\\\"Sat, 16 Apr 2022 14:20:52 GMT\\\",\\\"x-amzn-RequestId\\\":\\\"fdee188b-6fa0-4165-80bb-727821c0c24d\\\"},\\\"HttpStatusCode\\\":200},\\\"SdkResponseMetadata\\\":{\\\"RequestId\\\":\\\"fdee188b-6fa0-4165-80bb-727821c0c24d\\\"},\\\"TrainingJobArn\\\":\\\"arn:aws:sagemaker:eu-west-1:524741049628:training-job/l3e3-train5\\\"}\", \"outputDetails\": {\"truncated\": false}}}, {\"timestamp\": 1650119164.267, \"type\": \"TaskSucceeded\", \"id\": 12, \"previousEventId\": 11, \"taskSucceededEventDetails\": {\"resourceType\": \"sagemaker\", \"resource\": \"createTrainingJob.sync\", \"output\": \"{\\\"AlgorithmSpecification\\\":{\\\"EnableSageMakerMetricsTimeSeries\\\":false,\\\"MetricDefinitions\\\":[{\\\"Name\\\":\\\"train:accuracy\\\",\\\"Regex\\\":\\\"#train_accuracy: (\\\\\\\\S+)\\\"},{\\\"Name\\\":\\\"train:mean_rho\\\",\\\"Regex\\\":\\\"#mean_rho: (\\\\\\\\S+)\\\"},{\\\"Name\\\":\\\"validation:accuracy\\\",\\\"Regex\\\":\\\"#validation_accuracy: (\\\\\\\\S+)\\\"}],\\\"TrainingImage\\\":\\\"685385470294.dkr.ecr.eu-west-1.amazonaws.com/blazingtext:1\\\",\\\"TrainingInputMode\\\":\\\"File\\\"},\\\"BillableTimeInSeconds\\\":227,\\\"CreationTime\\\":1650118853215,\\\"EnableInterContainerTrafficEncryption\\\":false,\\\"EnableManagedSpotTraining\\\":false,\\\"EnableNetworkIsolation\\\":false,\\\"FinalMetricDataList\\\":[{\\\"MetricName\\\":\\\"train:accuracy\\\",\\\"Timestamp\\\":1650118995000,\\\"Value\\\":0.8877},{\\\"MetricName\\\":\\\"validation:accuracy\\\",\\\"Timestamp\\\":1650118995000,\\\"Value\\\":0.879}],\\\"HyperParameters\\\":{\\\"mode\\\":\\\"supervised\\\"},\\\"InputDataConfig\\\":[{\\\"ChannelName\\\":\\\"train\\\",\\\"CompressionType\\\":\\\"None\\\",\\\"ContentType\\\":\\\"text/plain\\\",\\\"DataSource\\\":{\\\"S3DataSource\\\":{\\\"S3DataDistributionType\\\":\\\"FullyReplicated\\\",\\\"S3DataType\\\":\\\"S3Prefix\\\",\\\"S3Uri\\\":\\\"s3://sagemaker-eu-west-1-524741049628/hello_blaze_train_scikit\\\"}},\\\"RecordWrapperType\\\":\\\"None\\\"},{\\\"ChannelName\\\":\\\"validation\\\",\\\"CompressionType\\\":\\\"None\\\",\\\"ContentType\\\":\\\"text/plain\\\",\\\"DataSource\\\":{\\\"S3DataSource\\\":{\\\"S3DataDistributionType\\\":\\\"FullyReplicated\\\",\\\"S3DataType\\\":\\\"S3Prefix\\\",\\\"S3Uri\\\":\\\"s3://sagemaker-eu-west-1-524741049628/hello_blaze_test_scikit\\\"}},\\\"RecordWrapperType\\\":\\\"None\\\"}],\\\"LastModifiedTime\\\":1650119163928,\\\"ModelArtifacts\\\":{\\\"S3ModelArtifacts\\\":\\\"s3://hari-test-bkt/l3e3/workflow_output/l3e3-train5/output/model.tar.gz\\\"},\\\"OutputDataConfig\\\":{\\\"KmsKeyId\\\":\\\"\\\",\\\"S3OutputPath\\\":\\\"s3://hari-test-bkt/l3e3/workflow_output\\\"},\\\"ProfilingStatus\\\":\\\"Disabled\\\",\\\"ResourceConfig\\\":{\\\"InstanceCount\\\":1,\\\"InstanceType\\\":\\\"ml.m5.large\\\",\\\"VolumeSizeInGB\\\":30},\\\"RoleArn\\\":\\\"arn:aws:iam::524741049628:role/service-role/AmazonSageMaker-ExecutionRole-20220409T111550\\\",\\\"SdkHttpMetadata\\\":{\\\"AllHttpHeaders\\\":{\\\"x-amzn-RequestId\\\":[\\\"123dc1c7-7dbb-45b8-b42e-45c0f2a99c81\\\"],\\\"Content-Length\\\":[\\\"3050\\\"],\\\"Date\\\":[\\\"Sat, 16 Apr 2022 14:26:03 GMT\\\"],\\\"Content-Type\\\":[\\\"application/x-amz-json-1.1\\\"]},\\\"HttpHeaders\\\":{\\\"Content-Length\\\":\\\"3050\\\",\\\"Content-Type\\\":\\\"application/x-amz-json-1.1\\\",\\\"Date\\\":\\\"Sat, 16 Apr 2022 14:26:03 GMT\\\",\\\"x-amzn-RequestId\\\":\\\"123dc1c7-7dbb-45b8-b42e-45c0f2a99c81\\\"},\\\"HttpStatusCode\\\":200},\\\"SdkResponseMetadata\\\":{\\\"RequestId\\\":\\\"123dc1c7-7dbb-45b8-b42e-45c0f2a99c81\\\"},\\\"SecondaryStatus\\\":\\\"Completed\\\",\\\"SecondaryStatusTransitions\\\":[{\\\"EndTime\\\":1650118936830,\\\"StartTime\\\":1650118853215,\\\"Status\\\":\\\"Starting\\\",\\\"StatusMessage\\\":\\\"Preparing the instances for training\\\"},{\\\"EndTime\\\":1650118987317,\\\"StartTime\\\":1650118936830,\\\"Status\\\":\\\"Downloading\\\",\\\"StatusMessage\\\":\\\"Downloading input data\\\"},{\\\"EndTime\\\":1650119008254,\\\"StartTime\\\":1650118987317,\\\"Status\\\":\\\"Training\\\",\\\"StatusMessage\\\":\\\"Training image download completed. Training in progress.\\\"},{\\\"EndTime\\\":1650119163928,\\\"StartTime\\\":1650119008254,\\\"Status\\\":\\\"Uploading\\\",\\\"StatusMessage\\\":\\\"Uploading generated training model\\\"},{\\\"EndTime\\\":1650119163928,\\\"StartTime\\\":1650119163928,\\\"Status\\\":\\\"Completed\\\",\\\"StatusMessage\\\":\\\"Training job completed\\\"}],\\\"StoppingCondition\\\":{\\\"MaxRuntimeInSeconds\\\":360000},\\\"TrainingEndTime\\\":1650119163928,\\\"TrainingJobArn\\\":\\\"arn:aws:sagemaker:eu-west-1:524741049628:training-job/l3e3-train5\\\",\\\"TrainingJobName\\\":\\\"l3e3-train5\\\",\\\"TrainingJobStatus\\\":\\\"Completed\\\",\\\"TrainingStartTime\\\":1650118936830,\\\"TrainingTimeInSeconds\\\":227,\\\"Tags\\\":{\\\"MANAGED_BY_AWS\\\":\\\"STARTED_BY_STEP_FUNCTIONS\\\",\\\"AWS_STEP_FUNCTIONS_EXECUTION_ARN\\\":\\\"arn:aws:states:eu-west-1:524741049628:execution:SFPreproecessTrain1:eb3b7440-0eb0-49a9-88b8-09a2090d5518\\\"}}\", \"outputDetails\": {\"truncated\": false}}}, {\"timestamp\": 1650119164.267, \"type\": \"TaskStateExited\", \"id\": 13, \"previousEventId\": 12, \"stateExitedEventDetails\": {\"name\": \"SageMaker Training Step\", \"output\": \"{\\\"AlgorithmSpecification\\\":{\\\"EnableSageMakerMetricsTimeSeries\\\":false,\\\"MetricDefinitions\\\":[{\\\"Name\\\":\\\"train:accuracy\\\",\\\"Regex\\\":\\\"#train_accuracy: (\\\\\\\\S+)\\\"},{\\\"Name\\\":\\\"train:mean_rho\\\",\\\"Regex\\\":\\\"#mean_rho: (\\\\\\\\S+)\\\"},{\\\"Name\\\":\\\"validation:accuracy\\\",\\\"Regex\\\":\\\"#validation_accuracy: (\\\\\\\\S+)\\\"}],\\\"TrainingImage\\\":\\\"685385470294.dkr.ecr.eu-west-1.amazonaws.com/blazingtext:1\\\",\\\"TrainingInputMode\\\":\\\"File\\\"},\\\"BillableTimeInSeconds\\\":227,\\\"CreationTime\\\":1650118853215,\\\"EnableInterContainerTrafficEncryption\\\":false,\\\"EnableManagedSpotTraining\\\":false,\\\"EnableNetworkIsolation\\\":false,\\\"FinalMetricDataList\\\":[{\\\"MetricName\\\":\\\"train:accuracy\\\",\\\"Timestamp\\\":1650118995000,\\\"Value\\\":0.8877},{\\\"MetricName\\\":\\\"validation:accuracy\\\",\\\"Timestamp\\\":1650118995000,\\\"Value\\\":0.879}],\\\"HyperParameters\\\":{\\\"mode\\\":\\\"supervised\\\"},\\\"InputDataConfig\\\":[{\\\"ChannelName\\\":\\\"train\\\",\\\"CompressionType\\\":\\\"None\\\",\\\"ContentType\\\":\\\"text/plain\\\",\\\"DataSource\\\":{\\\"S3DataSource\\\":{\\\"S3DataDistributionType\\\":\\\"FullyReplicated\\\",\\\"S3DataType\\\":\\\"S3Prefix\\\",\\\"S3Uri\\\":\\\"s3://sagemaker-eu-west-1-524741049628/hello_blaze_train_scikit\\\"}},\\\"RecordWrapperType\\\":\\\"None\\\"},{\\\"ChannelName\\\":\\\"validation\\\",\\\"CompressionType\\\":\\\"None\\\",\\\"ContentType\\\":\\\"text/plain\\\",\\\"DataSource\\\":{\\\"S3DataSource\\\":{\\\"S3DataDistributionType\\\":\\\"FullyReplicated\\\",\\\"S3DataType\\\":\\\"S3Prefix\\\",\\\"S3Uri\\\":\\\"s3://sagemaker-eu-west-1-524741049628/hello_blaze_test_scikit\\\"}},\\\"RecordWrapperType\\\":\\\"None\\\"}],\\\"LastModifiedTime\\\":1650119163928,\\\"ModelArtifacts\\\":{\\\"S3ModelArtifacts\\\":\\\"s3://hari-test-bkt/l3e3/workflow_output/l3e3-train5/output/model.tar.gz\\\"},\\\"OutputDataConfig\\\":{\\\"KmsKeyId\\\":\\\"\\\",\\\"S3OutputPath\\\":\\\"s3://hari-test-bkt/l3e3/workflow_output\\\"},\\\"ProfilingStatus\\\":\\\"Disabled\\\",\\\"ResourceConfig\\\":{\\\"InstanceCount\\\":1,\\\"InstanceType\\\":\\\"ml.m5.large\\\",\\\"VolumeSizeInGB\\\":30},\\\"RoleArn\\\":\\\"arn:aws:iam::524741049628:role/service-role/AmazonSageMaker-ExecutionRole-20220409T111550\\\",\\\"SdkHttpMetadata\\\":{\\\"AllHttpHeaders\\\":{\\\"x-amzn-RequestId\\\":[\\\"123dc1c7-7dbb-45b8-b42e-45c0f2a99c81\\\"],\\\"Content-Length\\\":[\\\"3050\\\"],\\\"Date\\\":[\\\"Sat, 16 Apr 2022 14:26:03 GMT\\\"],\\\"Content-Type\\\":[\\\"application/x-amz-json-1.1\\\"]},\\\"HttpHeaders\\\":{\\\"Content-Length\\\":\\\"3050\\\",\\\"Content-Type\\\":\\\"application/x-amz-json-1.1\\\",\\\"Date\\\":\\\"Sat, 16 Apr 2022 14:26:03 GMT\\\",\\\"x-amzn-RequestId\\\":\\\"123dc1c7-7dbb-45b8-b42e-45c0f2a99c81\\\"},\\\"HttpStatusCode\\\":200},\\\"SdkResponseMetadata\\\":{\\\"RequestId\\\":\\\"123dc1c7-7dbb-45b8-b42e-45c0f2a99c81\\\"},\\\"SecondaryStatus\\\":\\\"Completed\\\",\\\"SecondaryStatusTransitions\\\":[{\\\"EndTime\\\":1650118936830,\\\"StartTime\\\":1650118853215,\\\"Status\\\":\\\"Starting\\\",\\\"StatusMessage\\\":\\\"Preparing the instances for training\\\"},{\\\"EndTime\\\":1650118987317,\\\"StartTime\\\":1650118936830,\\\"Status\\\":\\\"Downloading\\\",\\\"StatusMessage\\\":\\\"Downloading input data\\\"},{\\\"EndTime\\\":1650119008254,\\\"StartTime\\\":1650118987317,\\\"Status\\\":\\\"Training\\\",\\\"StatusMessage\\\":\\\"Training image download completed. Training in progress.\\\"},{\\\"EndTime\\\":1650119163928,\\\"StartTime\\\":1650119008254,\\\"Status\\\":\\\"Uploading\\\",\\\"StatusMessage\\\":\\\"Uploading generated training model\\\"},{\\\"EndTime\\\":1650119163928,\\\"StartTime\\\":1650119163928,\\\"Status\\\":\\\"Completed\\\",\\\"StatusMessage\\\":\\\"Training job completed\\\"}],\\\"StoppingCondition\\\":{\\\"MaxRuntimeInSeconds\\\":360000},\\\"TrainingEndTime\\\":1650119163928,\\\"TrainingJobArn\\\":\\\"arn:aws:sagemaker:eu-west-1:524741049628:training-job/l3e3-train5\\\",\\\"TrainingJobName\\\":\\\"l3e3-train5\\\",\\\"TrainingJobStatus\\\":\\\"Completed\\\",\\\"TrainingStartTime\\\":1650118936830,\\\"TrainingTimeInSeconds\\\":227,\\\"Tags\\\":{\\\"MANAGED_BY_AWS\\\":\\\"STARTED_BY_STEP_FUNCTIONS\\\",\\\"AWS_STEP_FUNCTIONS_EXECUTION_ARN\\\":\\\"arn:aws:states:eu-west-1:524741049628:execution:SFPreproecessTrain1:eb3b7440-0eb0-49a9-88b8-09a2090d5518\\\"}}\", \"outputDetails\": {\"truncated\": false}}}, {\"timestamp\": 1650119164.267, \"type\": \"ExecutionSucceeded\", \"id\": 14, \"previousEventId\": 13, \"executionSucceededEventDetails\": {\"output\": \"{\\\"AlgorithmSpecification\\\":{\\\"EnableSageMakerMetricsTimeSeries\\\":false,\\\"MetricDefinitions\\\":[{\\\"Name\\\":\\\"train:accuracy\\\",\\\"Regex\\\":\\\"#train_accuracy: (\\\\\\\\S+)\\\"},{\\\"Name\\\":\\\"train:mean_rho\\\",\\\"Regex\\\":\\\"#mean_rho: (\\\\\\\\S+)\\\"},{\\\"Name\\\":\\\"validation:accuracy\\\",\\\"Regex\\\":\\\"#validation_accuracy: (\\\\\\\\S+)\\\"}],\\\"TrainingImage\\\":\\\"685385470294.dkr.ecr.eu-west-1.amazonaws.com/blazingtext:1\\\",\\\"TrainingInputMode\\\":\\\"File\\\"},\\\"BillableTimeInSeconds\\\":227,\\\"CreationTime\\\":1650118853215,\\\"EnableInterContainerTrafficEncryption\\\":false,\\\"EnableManagedSpotTraining\\\":false,\\\"EnableNetworkIsolation\\\":false,\\\"FinalMetricDataList\\\":[{\\\"MetricName\\\":\\\"train:accuracy\\\",\\\"Timestamp\\\":1650118995000,\\\"Value\\\":0.8877},{\\\"MetricName\\\":\\\"validation:accuracy\\\",\\\"Timestamp\\\":1650118995000,\\\"Value\\\":0.879}],\\\"HyperParameters\\\":{\\\"mode\\\":\\\"supervised\\\"},\\\"InputDataConfig\\\":[{\\\"ChannelName\\\":\\\"train\\\",\\\"CompressionType\\\":\\\"None\\\",\\\"ContentType\\\":\\\"text/plain\\\",\\\"DataSource\\\":{\\\"S3DataSource\\\":{\\\"S3DataDistributionType\\\":\\\"FullyReplicated\\\",\\\"S3DataType\\\":\\\"S3Prefix\\\",\\\"S3Uri\\\":\\\"s3://sagemaker-eu-west-1-524741049628/hello_blaze_train_scikit\\\"}},\\\"RecordWrapperType\\\":\\\"None\\\"},{\\\"ChannelName\\\":\\\"validation\\\",\\\"CompressionType\\\":\\\"None\\\",\\\"ContentType\\\":\\\"text/plain\\\",\\\"DataSource\\\":{\\\"S3DataSource\\\":{\\\"S3DataDistributionType\\\":\\\"FullyReplicated\\\",\\\"S3DataType\\\":\\\"S3Prefix\\\",\\\"S3Uri\\\":\\\"s3://sagemaker-eu-west-1-524741049628/hello_blaze_test_scikit\\\"}},\\\"RecordWrapperType\\\":\\\"None\\\"}],\\\"LastModifiedTime\\\":1650119163928,\\\"ModelArtifacts\\\":{\\\"S3ModelArtifacts\\\":\\\"s3://hari-test-bkt/l3e3/workflow_output/l3e3-train5/output/model.tar.gz\\\"},\\\"OutputDataConfig\\\":{\\\"KmsKeyId\\\":\\\"\\\",\\\"S3OutputPath\\\":\\\"s3://hari-test-bkt/l3e3/workflow_output\\\"},\\\"ProfilingStatus\\\":\\\"Disabled\\\",\\\"ResourceConfig\\\":{\\\"InstanceCount\\\":1,\\\"InstanceType\\\":\\\"ml.m5.large\\\",\\\"VolumeSizeInGB\\\":30},\\\"RoleArn\\\":\\\"arn:aws:iam::524741049628:role/service-role/AmazonSageMaker-ExecutionRole-20220409T111550\\\",\\\"SdkHttpMetadata\\\":{\\\"AllHttpHeaders\\\":{\\\"x-amzn-RequestId\\\":[\\\"123dc1c7-7dbb-45b8-b42e-45c0f2a99c81\\\"],\\\"Content-Length\\\":[\\\"3050\\\"],\\\"Date\\\":[\\\"Sat, 16 Apr 2022 14:26:03 GMT\\\"],\\\"Content-Type\\\":[\\\"application/x-amz-json-1.1\\\"]},\\\"HttpHeaders\\\":{\\\"Content-Length\\\":\\\"3050\\\",\\\"Content-Type\\\":\\\"application/x-amz-json-1.1\\\",\\\"Date\\\":\\\"Sat, 16 Apr 2022 14:26:03 GMT\\\",\\\"x-amzn-RequestId\\\":\\\"123dc1c7-7dbb-45b8-b42e-45c0f2a99c81\\\"},\\\"HttpStatusCode\\\":200},\\\"SdkResponseMetadata\\\":{\\\"RequestId\\\":\\\"123dc1c7-7dbb-45b8-b42e-45c0f2a99c81\\\"},\\\"SecondaryStatus\\\":\\\"Completed\\\",\\\"SecondaryStatusTransitions\\\":[{\\\"EndTime\\\":1650118936830,\\\"StartTime\\\":1650118853215,\\\"Status\\\":\\\"Starting\\\",\\\"StatusMessage\\\":\\\"Preparing the instances for training\\\"},{\\\"EndTime\\\":1650118987317,\\\"StartTime\\\":1650118936830,\\\"Status\\\":\\\"Downloading\\\",\\\"StatusMessage\\\":\\\"Downloading input data\\\"},{\\\"EndTime\\\":1650119008254,\\\"StartTime\\\":1650118987317,\\\"Status\\\":\\\"Training\\\",\\\"StatusMessage\\\":\\\"Training image download completed. Training in progress.\\\"},{\\\"EndTime\\\":1650119163928,\\\"StartTime\\\":1650119008254,\\\"Status\\\":\\\"Uploading\\\",\\\"StatusMessage\\\":\\\"Uploading generated training model\\\"},{\\\"EndTime\\\":1650119163928,\\\"StartTime\\\":1650119163928,\\\"Status\\\":\\\"Completed\\\",\\\"StatusMessage\\\":\\\"Training job completed\\\"}],\\\"StoppingCondition\\\":{\\\"MaxRuntimeInSeconds\\\":360000},\\\"TrainingEndTime\\\":1650119163928,\\\"TrainingJobArn\\\":\\\"arn:aws:sagemaker:eu-west-1:524741049628:training-job/l3e3-train5\\\",\\\"TrainingJobName\\\":\\\"l3e3-train5\\\",\\\"TrainingJobStatus\\\":\\\"Completed\\\",\\\"TrainingStartTime\\\":1650118936830,\\\"TrainingTimeInSeconds\\\":227,\\\"Tags\\\":{\\\"MANAGED_BY_AWS\\\":\\\"STARTED_BY_STEP_FUNCTIONS\\\",\\\"AWS_STEP_FUNCTIONS_EXECUTION_ARN\\\":\\\"arn:aws:states:eu-west-1:524741049628:execution:SFPreproecessTrain1:eb3b7440-0eb0-49a9-88b8-09a2090d5518\\\"}}\", \"outputDetails\": {\"truncated\": false}}}] };\n",
       "\n",
       "    var graph = new sfn.StateMachineExecutionGraph(definition, events, elementId, options);\n",
       "    graph.render();\n",
       "});\n",
       "\n",
       "</script>\n"
      ],
      "text/plain": [
       "<IPython.core.display.HTML object>"
      ]
     },
     "execution_count": 10,
     "metadata": {},
     "output_type": "execute_result"
    }
   ],
   "source": [
    "execution.render_progress()"
   ]
  },
  {
   "cell_type": "code",
   "execution_count": null,
   "id": "20a3169b",
   "metadata": {},
   "outputs": [],
   "source": []
  }
 ],
 "metadata": {
  "kernelspec": {
   "display_name": "conda_python3",
   "language": "python",
   "name": "conda_python3"
  },
  "language_info": {
   "codemirror_mode": {
    "name": "ipython",
    "version": 3
   },
   "file_extension": ".py",
   "mimetype": "text/x-python",
   "name": "python",
   "nbconvert_exporter": "python",
   "pygments_lexer": "ipython3",
   "version": "3.6.13"
  }
 },
 "nbformat": 4,
 "nbformat_minor": 5
}
